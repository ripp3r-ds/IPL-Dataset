{
 "cells": [
  {
   "cell_type": "markdown",
   "metadata": {},
   "source": [
    "# <center>PGP Data Science Engineering</center>\n",
    "## <center>Introduction to Programming – Mini Project:</center>\n"
   ]
  },
  {
   "cell_type": "markdown",
   "metadata": {},
   "source": [
    "### Problem 1:\n",
    "\n",
    "1. Write a program to calculate area of shapes. Your program should be capable of calculating the area of a square, rectangle, triangle and a circle. The user should be presented with options to select the shape. Based on which shape is chosed by the user, the program should ask for the appropriate input and print the resulting area on the screen.\n",
    "\n",
    "When the program is run, the screen should display something like this:\n",
    "\n",
    "**Which shape would you like to calculate the area for? Please enter the option number-**<br>\n",
    "**1. Square**<br>\n",
    "**2. Rectangle**<br>\n",
    "**3. Triangle**<br>\n",
    "**4. Circle**<br>\n",
    "**Enter Option: _**\n",
    "\n",
    "Say the user enters the option 1.\n",
    "\n",
    "**Please enter the length of a side: _**\n",
    "\n",
    "If the user enters a value of 5. The output should be:\n",
    "\n",
    "**The area of the square is 25**\n",
    "\n",
    "This program should indicate that the input is invalid if the user enters a character instead of a number as input. For instance if the user enters a value of ‘a’ instead of 5 in the previous example the program should prompt:\n",
    "\n",
    "**Invalid input, please enter a number: _**\n"
   ]
  },
  {
   "cell_type": "code",
   "execution_count": 2,
   "metadata": {
    "scrolled": true
   },
   "outputs": [
    {
     "name": "stdout",
     "output_type": "stream",
     "text": [
      "Which shape would you like to calculate the area for? Please enter the option number-\n",
      "1. Square\n",
      "2. Rectangle\n",
      "3. Triangle\n",
      "4. Circle\n",
      "Enter Option: 1\n",
      "Please enter the length of a side: 1\n",
      "area of the square is: 1.000\n"
     ]
    }
   ],
   "source": [
    "def valid_in(a):\n",
    "    while True:\n",
    "        try:\n",
    "            res=float(input(a))\n",
    "        except ValueError:\n",
    "            print('invalid input,try again')\n",
    "            continue\n",
    "        if res<0:\n",
    "            print('please enter a valid positive real number')\n",
    "        else:\n",
    "            break\n",
    "    return res       \n",
    "        \n",
    "while True:\n",
    "    try:\n",
    "        a=int(input('''Which shape would you like to calculate the area for? Please enter the option number-\n",
    "1. Square\n",
    "2. Rectangle\n",
    "3. Triangle\n",
    "4. Circle\n",
    "Enter Option: '''))\n",
    "    except ValueError:\n",
    "        print('please enter a valid option(1,2,3,4)')\n",
    "        continue\n",
    "    if a not in [i for i in range(1,5)]:\n",
    "        print('please enter a valid number in (1,2,3,4)')\n",
    "    else:\n",
    "        break\n",
    "\n",
    "if a==1:\n",
    "    s=valid_in('Please enter the length of a side: ')\n",
    "    print('area of the square is: %.3f'%(s**2))\n",
    "elif a==2:\n",
    "    l=valid_in('Please enter the length of the rectangle: ')\n",
    "    b=valid_in('Please enter the breadth of the rectangle: ')\n",
    "    print('the area of rectangle is %.3f'%(l*b))\n",
    "elif a==3:\n",
    "    b=valid_in('Please enter the base of the triangle: ')\n",
    "    h=valid_in('Please enter the height of the triangle: ')\n",
    "    print('Area of the given triangle is %.3f'%(0.5*b*h))\n",
    "else:\n",
    "    r=valid_in('Please enter the radius of the circle')\n",
    "    from math import pi\n",
    "    print('area of the circle is: %.3f'%(pi*r*r))\n",
    "            \n",
    "            \n"
   ]
  },
  {
   "cell_type": "code",
   "execution_count": null,
   "metadata": {},
   "outputs": [],
   "source": [
    "1"
   ]
  },
  {
   "cell_type": "markdown",
   "metadata": {},
   "source": [
    "### Problem 2:\n",
    "\n",
    "Create and encrypter in python based on the ceaser cipher. It is a substitution cipher where each character of the original text is shifted a certain number characters in the alphabet. Write a function that would require 2 arguments – the input text to be encrypted and a key. For eg: Given the input text ‘hello’ and the key 3, the resulting encryted text would be ‘khoor’. Here you can see that every character in the string hello is shifted by 3 characters. ‘h’ has shifted to ‘k’, ‘e’ has shifted to ‘h’ and so on. If a key of 5 were used, the resulting string would be ‘mjqqt’. This function should be capable of ignoring any characters which are not alphabets. Th2 character ‘z’ entered b\n",
    "y the user for a key of 3 would result in ‘c’.\n",
    "\n",
    "Usage:<br>\n",
    "**encrypt(‘hello world!’, 3)**<br>\n",
    "**‘khoor zruog!’**\n",
    "\n",
    "Similarly create decrypter which can decode the encryted text when provided the input text and key\n",
    "\n",
    "Usage:<br>\n",
    "**decrypt(‘khoor zruog!’, 3)**<br>\n",
    "**‘hello world!’**\n",
    "\n",
    "For the sake of simplicity you can assume that input solely consists of lowercase alphabets, spaces and punctuation symbols. Numbers in the input text would also be ignored similar to symbols."
   ]
  },
  {
   "cell_type": "code",
   "execution_count": null,
   "metadata": {},
   "outputs": [],
   "source": [
    "def encrypt(s,n):\n",
    "    if n<0:\n",
    "        return decrypt(s,-n)\n",
    "    else:\n",
    "        a=''\n",
    "        for i in s:\n",
    "            if ord(i) in range(97,123):\n",
    "                if ord(i)+n<=122:\n",
    "                    a+=(chr(ord(i)+n))\n",
    "                else:\n",
    "                    a+=(chr(ord(i)-26+n))\n",
    "            else:\n",
    "                a+=i\n",
    "        return a\n",
    "\n",
    "\n",
    "def decrypt(s,n):\n",
    "    if n<0:\n",
    "        return encrypt(s,-n)\n",
    "    else:\n",
    "        b=''\n",
    "        for i in s:\n",
    "            if ord(i) in range(97,123):\n",
    "                if ord(i)-n>=97:\n",
    "                    b+=chr(ord(i)-n)\n",
    "                else:\n",
    "                    b+=chr(ord(i)+26-n)\n",
    "            else:\n",
    "                b+=i\n",
    "        return b\n",
    "a=encrypt(input('enter the string you want to encrypt: '),int(input('enter the encryption key(an integer(<26)) ')))\n",
    "print('encrypted input based on the key:',a)"
   ]
  },
  {
   "cell_type": "code",
   "execution_count": 18,
   "metadata": {},
   "outputs": [
    {
     "data": {
      "text/plain": [
       "'·¸¹ÐÏÎÍÅÂÈÇ¾Å Æ¾ÌÌÂ'"
      ]
     },
     "execution_count": 18,
     "metadata": {},
     "output_type": "execute_result"
    }
   ],
   "source": [
    "encrypt('abczyxwolrqho phvvl')\n"
   ]
  }
 ],
 "metadata": {
  "kernelspec": {
   "display_name": "Python 3",
   "language": "python",
   "name": "python3"
  },
  "language_info": {
   "codemirror_mode": {
    "name": "ipython",
    "version": 3
   },
   "file_extension": ".py",
   "mimetype": "text/x-python",
   "name": "python",
   "nbconvert_exporter": "python",
   "pygments_lexer": "ipython3",
   "version": "3.7.6"
  }
 },
 "nbformat": 4,
 "nbformat_minor": 2
}
